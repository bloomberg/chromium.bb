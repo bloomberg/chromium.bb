{
  "nbformat": 4,
  "nbformat_minor": 5,
  "metadata": {
    "colab": {
      "name": "On-Device Training in TensorFlow Lite",
      "provenance": [],
      "collapsed_sections": [],
      "toc_visible": true
    },
    "id": "a1b42e5b",
    "kernelspec": {
      "display_name": "Python 3",
      "name": "python3"
    },
    "language_info": {
      "name": "python"
    }
  },
  "cells": [
    {
      "cell_type": "markdown",
      "metadata": {
        "id": "g_nWetWWd_ns"
      },
      "source": [
        "##### Copyright 2021 The TensorFlow Authors."
      ],
      "id": "g_nWetWWd_ns"
    },
    {
      "cell_type": "code",
      "metadata": {
        "cellView": "form",
        "id": "2pHVBk_seED1"
      },
      "source": [
        "#@title Licensed under the Apache License, Version 2.0 (the \"License\");\n",
        "# you may not use this file except in compliance with the License.\n",
        "# You may obtain a copy of the License at\n",
        "#\n",
        "# https://www.apache.org/licenses/LICENSE-2.0\n",
        "#\n",
        "# Unless required by applicable law or agreed to in writing, software\n",
        "# distributed under the License is distributed on an \"AS IS\" BASIS,\n",
        "# WITHOUT WARRANTIES OR CONDITIONS OF ANY KIND, either express or implied.\n",
        "# See the License for the specific language governing permissions and\n",
        "# limitations under the License."
      ],
      "id": "2pHVBk_seED1",
      "execution_count": 1,
      "outputs": []
    },
    {
      "cell_type": "markdown",
      "metadata": {
        "id": "M7vSdG6sAIQn"
      },
      "source": [
        "# On-Device Training in TensorFlow Lite"
      ],
      "id": "M7vSdG6sAIQn"
    },
    {
      "cell_type": "markdown",
      "metadata": {
        "id": "fwc5GKHBASdc"
      },
      "source": [
        "<table class=\"tfo-notebook-buttons\" align=\"left\">\n",
        "  <td>\n",
        "    <a target=\"_blank\" href=\"https://www.tensorflow.org/lite/examples/on_device_training/overview\"><img src=\"https://www.tensorflow.org/images/tf_logo_32px.png\" />View on TensorFlow.org</a>\n",
        "  </td>\n",
        "  <td>\n",
        "    <a target=\"_blank\" href=\"https://colab.research.google.com/github/tensorflow/tensorflow/blob/master/tensorflow/lite/g3doc/examples/on_device_training/overview.ipynb\"><img src=\"https://www.tensorflow.org/images/colab_logo_32px.png\" />Run in Google Colab</a>\n",
        "  </td>\n",
        "  <td>\n",
        "    <a target=\"_blank\" href=\"https://github.com/tensorflow/tensorflow/blob/master/tensorflow/lite/g3doc/examples/on_device_training/overview.ipynb\"><img src=\"https://www.tensorflow.org/images/GitHub-Mark-32px.png\" />View source on GitHub</a>\n",
        "  </td>\n",
        "  <td>\n",
        "    <a href=\"https://storage.googleapis.com/tensorflow_docs/tensorflow/tensorflow/lite/g3doc/examples/on_device_training/overview.ipynb\"><img src=\"https://www.tensorflow.org/images/download_logo_32px.png\" />Download notebook</a>\n",
        "  </td>\n",
        "</table>"
      ],
      "id": "fwc5GKHBASdc"
    },
    {
      "cell_type": "markdown",
      "metadata": {
        "id": "9ee074e4"
      },
      "source": [
        "**Note:** This API is new and only available via `pip install tf-nightly`. It will be available in TensorFlow version 2.7.\n",
        "\n",
        "To use TensorFlow Lite, a developer needs to prepare a TensorFlow model, use the converter to convert it to TensorFlow Lite model format, and run the model with the TensorFlow Lite runtime on device. This is true for inference use cases, and a similar flow can be applied to training too.\n",
        "\n",
        "The following code illustrates the high-level flow of preparing a TensorFlow training model, converting it to TensorFlow Lite model and running in TensorFlow Lite runtime for a training use case.\n",
        "\n",
        "The implementation is based on the [Keras classification example](https://www.tensorflow.org/tutorials/keras/classification) in the TensorFlow official guide page."
      ],
      "id": "9ee074e4"
    },
    {
      "cell_type": "markdown",
      "metadata": {
        "id": "UaWdLA3fQDK2"
      },
      "source": [
        "## Setup"
      ],
      "id": "UaWdLA3fQDK2"
    },
    {
      "cell_type": "code",
      "metadata": {
        "id": "uZJ35RWsQHG2",
        "outputId": "b74e724b-9b2b-4608-bbcc-985f32ca3891",
        "colab": {
          "base_uri": "https://localhost:8080/"
        }
      },
      "source": [
        "!pip uninstall -y tensorflow keras\n",
        "!pip install tf-nightly"
      ],
      "id": "uZJ35RWsQHG2",
      "execution_count": 2,
      "outputs": [
        {
          "output_type": "stream",
          "text": [
            "Found existing installation: tensorflow 2.6.0\n",
            "Uninstalling tensorflow-2.6.0:\n",
            "  Successfully uninstalled tensorflow-2.6.0\n",
            "Found existing installation: keras 2.6.0\n",
            "Uninstalling keras-2.6.0:\n",
            "  Successfully uninstalled keras-2.6.0\n",
            "Collecting tf-nightly\n",
            "  Downloading tf_nightly-2.7.0.dev20210818-cp37-cp37m-manylinux2010_x86_64.whl (468.5 MB)\n",
            "\u001b[K     |████████████████████████████████| 468.5 MB 199 bytes/s \n",
            "\u001b[?25hRequirement already satisfied: typing-extensions~=3.7.4 in /usr/local/lib/python3.7/dist-packages (from tf-nightly) (3.7.4.3)\n",
            "Collecting keras-nightly~=2.7.0.dev\n",
            "  Downloading keras_nightly-2.7.0.dev2021081807-py2.py3-none-any.whl (1.3 MB)\n",
            "\u001b[K     |████████████████████████████████| 1.3 MB 31.2 MB/s \n",
            "\u001b[?25hRequirement already satisfied: astunparse~=1.6.3 in /usr/local/lib/python3.7/dist-packages (from tf-nightly) (1.6.3)\n",
            "Collecting libclang~=11.1.0\n",
            "  Downloading libclang-11.1.0-py2.py3-none-manylinux1_x86_64.whl (12.8 MB)\n",
            "\u001b[K     |████████████████████████████████| 12.8 MB 140 kB/s \n",
            "\u001b[?25hRequirement already satisfied: absl-py~=0.10 in /usr/local/lib/python3.7/dist-packages (from tf-nightly) (0.12.0)\n",
            "Requirement already satisfied: wrapt~=1.12.1 in /usr/local/lib/python3.7/dist-packages (from tf-nightly) (1.12.1)\n",
            "Requirement already satisfied: six~=1.15.0 in /usr/local/lib/python3.7/dist-packages (from tf-nightly) (1.15.0)\n",
            "Requirement already satisfied: protobuf>=3.9.2 in /usr/local/lib/python3.7/dist-packages (from tf-nightly) (3.17.3)\n",
            "Requirement already satisfied: termcolor~=1.1.0 in /usr/local/lib/python3.7/dist-packages (from tf-nightly) (1.1.0)\n",
            "Requirement already satisfied: flatbuffers~=1.12.0 in /usr/local/lib/python3.7/dist-packages (from tf-nightly) (1.12)\n",
            "Requirement already satisfied: gast==0.4.0 in /usr/local/lib/python3.7/dist-packages (from tf-nightly) (0.4.0)\n",
            "Requirement already satisfied: google-pasta~=0.2 in /usr/local/lib/python3.7/dist-packages (from tf-nightly) (0.2.0)\n",
            "Requirement already satisfied: opt-einsum~=3.3.0 in /usr/local/lib/python3.7/dist-packages (from tf-nightly) (3.3.0)\n",
            "Collecting tf-estimator-nightly~=2.7.0.dev\n",
            "  Downloading tf_estimator_nightly-2.7.0.dev2021081808-py2.py3-none-any.whl (463 kB)\n",
            "\u001b[K     |████████████████████████████████| 463 kB 66.9 MB/s \n",
            "\u001b[?25hRequirement already satisfied: grpcio<2.0,>=1.37.0 in /usr/local/lib/python3.7/dist-packages (from tf-nightly) (1.39.0)\n",
            "Collecting tensorflow-io-gcs-filesystem>=0.20.0\n",
            "  Downloading tensorflow_io_gcs_filesystem-0.20.0-cp37-cp37m-manylinux_2_12_x86_64.manylinux2010_x86_64.whl (2.3 MB)\n",
            "\u001b[K     |████████████████████████████████| 2.3 MB 20.3 MB/s \n",
            "\u001b[?25hCollecting tb-nightly~=2.7.0.a\n",
            "  Downloading tb_nightly-2.7.0a20210818-py3-none-any.whl (5.7 MB)\n",
            "\u001b[K     |████████████████████████████████| 5.7 MB 18.7 MB/s \n",
            "\u001b[?25hRequirement already satisfied: h5py~=3.1.0 in /usr/local/lib/python3.7/dist-packages (from tf-nightly) (3.1.0)\n",
            "Requirement already satisfied: numpy~=1.19.2 in /usr/local/lib/python3.7/dist-packages (from tf-nightly) (1.19.5)\n",
            "Requirement already satisfied: keras-preprocessing~=1.1.2 in /usr/local/lib/python3.7/dist-packages (from tf-nightly) (1.1.2)\n",
            "Requirement already satisfied: wheel~=0.35 in /usr/local/lib/python3.7/dist-packages (from tf-nightly) (0.37.0)\n",
            "Requirement already satisfied: cached-property in /usr/local/lib/python3.7/dist-packages (from h5py~=3.1.0->tf-nightly) (1.5.2)\n",
            "Requirement already satisfied: setuptools>=41.0.0 in /usr/local/lib/python3.7/dist-packages (from tb-nightly~=2.7.0.a->tf-nightly) (57.4.0)\n",
            "Requirement already satisfied: markdown>=2.6.8 in /usr/local/lib/python3.7/dist-packages (from tb-nightly~=2.7.0.a->tf-nightly) (3.3.4)\n",
            "Requirement already satisfied: requests<3,>=2.21.0 in /usr/local/lib/python3.7/dist-packages (from tb-nightly~=2.7.0.a->tf-nightly) (2.23.0)\n",
            "Requirement already satisfied: tensorboard-plugin-wit>=1.6.0 in /usr/local/lib/python3.7/dist-packages (from tb-nightly~=2.7.0.a->tf-nightly) (1.8.0)\n",
            "Requirement already satisfied: google-auth<2,>=1.6.3 in /usr/local/lib/python3.7/dist-packages (from tb-nightly~=2.7.0.a->tf-nightly) (1.34.0)\n",
            "Requirement already satisfied: werkzeug>=0.11.15 in /usr/local/lib/python3.7/dist-packages (from tb-nightly~=2.7.0.a->tf-nightly) (1.0.1)\n",
            "Requirement already satisfied: google-auth-oauthlib<0.5,>=0.4.1 in /usr/local/lib/python3.7/dist-packages (from tb-nightly~=2.7.0.a->tf-nightly) (0.4.5)\n",
            "Requirement already satisfied: tensorboard-data-server<0.7.0,>=0.6.0 in /usr/local/lib/python3.7/dist-packages (from tb-nightly~=2.7.0.a->tf-nightly) (0.6.1)\n",
            "Requirement already satisfied: pyasn1-modules>=0.2.1 in /usr/local/lib/python3.7/dist-packages (from google-auth<2,>=1.6.3->tb-nightly~=2.7.0.a->tf-nightly) (0.2.8)\n",
            "Requirement already satisfied: rsa<5,>=3.1.4 in /usr/local/lib/python3.7/dist-packages (from google-auth<2,>=1.6.3->tb-nightly~=2.7.0.a->tf-nightly) (4.7.2)\n",
            "Requirement already satisfied: cachetools<5.0,>=2.0.0 in /usr/local/lib/python3.7/dist-packages (from google-auth<2,>=1.6.3->tb-nightly~=2.7.0.a->tf-nightly) (4.2.2)\n",
            "Requirement already satisfied: requests-oauthlib>=0.7.0 in /usr/local/lib/python3.7/dist-packages (from google-auth-oauthlib<0.5,>=0.4.1->tb-nightly~=2.7.0.a->tf-nightly) (1.3.0)\n",
            "Requirement already satisfied: importlib-metadata in /usr/local/lib/python3.7/dist-packages (from markdown>=2.6.8->tb-nightly~=2.7.0.a->tf-nightly) (4.6.4)\n",
            "Requirement already satisfied: pyasn1<0.5.0,>=0.4.6 in /usr/local/lib/python3.7/dist-packages (from pyasn1-modules>=0.2.1->google-auth<2,>=1.6.3->tb-nightly~=2.7.0.a->tf-nightly) (0.4.8)\n",
            "Requirement already satisfied: idna<3,>=2.5 in /usr/local/lib/python3.7/dist-packages (from requests<3,>=2.21.0->tb-nightly~=2.7.0.a->tf-nightly) (2.10)\n",
            "Requirement already satisfied: certifi>=2017.4.17 in /usr/local/lib/python3.7/dist-packages (from requests<3,>=2.21.0->tb-nightly~=2.7.0.a->tf-nightly) (2021.5.30)\n",
            "Requirement already satisfied: urllib3!=1.25.0,!=1.25.1,<1.26,>=1.21.1 in /usr/local/lib/python3.7/dist-packages (from requests<3,>=2.21.0->tb-nightly~=2.7.0.a->tf-nightly) (1.24.3)\n",
            "Requirement already satisfied: chardet<4,>=3.0.2 in /usr/local/lib/python3.7/dist-packages (from requests<3,>=2.21.0->tb-nightly~=2.7.0.a->tf-nightly) (3.0.4)\n",
            "Requirement already satisfied: oauthlib>=3.0.0 in /usr/local/lib/python3.7/dist-packages (from requests-oauthlib>=0.7.0->google-auth-oauthlib<0.5,>=0.4.1->tb-nightly~=2.7.0.a->tf-nightly) (3.1.1)\n",
            "Requirement already satisfied: zipp>=0.5 in /usr/local/lib/python3.7/dist-packages (from importlib-metadata->markdown>=2.6.8->tb-nightly~=2.7.0.a->tf-nightly) (3.5.0)\n",
            "Installing collected packages: tf-estimator-nightly, tensorflow-io-gcs-filesystem, tb-nightly, libclang, keras-nightly, tf-nightly\n",
            "Successfully installed keras-nightly-2.7.0.dev2021081807 libclang-11.1.0 tb-nightly-2.7.0a20210818 tensorflow-io-gcs-filesystem-0.20.0 tf-estimator-nightly-2.7.0.dev2021081808 tf-nightly-2.7.0.dev20210818\n"
          ],
          "name": "stdout"
        }
      ]
    },
    {
      "cell_type": "code",
      "metadata": {
        "id": "9j4MGqyKQEo4"
      },
      "source": [
        "import matplotlib.pyplot as plt\n",
        "import numpy as np\n",
        "import tensorflow as tf"
      ],
      "id": "9j4MGqyKQEo4",
      "execution_count": 3,
      "outputs": []
    },
    {
      "cell_type": "markdown",
      "metadata": {
        "id": "_omifE5JKpt4"
      },
      "source": [
        "## Classify images of clothing\n",
        "\n",
        "This CoLab trains a neural network model to classify images of clothing, like sneakers and shirts.\n",
        "\n",
        "Here, 60,000 images are used to train the network and 10,000 images to evaluate how accurately the network learned to classify images. You can access the Fashion MNIST directly from TensorFlow. Import and load the Fashion MNIST data directly from TensorFlow:\n",
        "\n",
        "Loading the dataset returns four NumPy arrays:\n",
        "\n",
        "* The `train_images` and `train_labels` arrays are the *training set*—the data the model uses to learn.\n",
        "* The model is tested against the *test set*, the `test_images`, and `test_labels` arrays."
      ],
      "id": "_omifE5JKpt4"
    },
    {
      "cell_type": "code",
      "metadata": {
        "id": "NDo-K3Mq63iK",
        "outputId": "5ea6c92d-b877-4835-ea91-23fba0b97912",
        "colab": {
          "base_uri": "https://localhost:8080/"
        }
      },
      "source": [
        "fashion_mnist = tf.keras.datasets.fashion_mnist\n",
        "\n",
        "(train_images, train_labels), (test_images, test_labels) = fashion_mnist.load_data()"
      ],
      "id": "NDo-K3Mq63iK",
      "execution_count": 4,
      "outputs": [
        {
          "output_type": "stream",
          "text": [
            "Downloading data from https://storage.googleapis.com/tensorflow/tf-keras-datasets/train-labels-idx1-ubyte.gz\n",
            "32768/29515 [=================================] - 0s 0us/step\n",
            "40960/29515 [=========================================] - 0s 0us/step\n",
            "Downloading data from https://storage.googleapis.com/tensorflow/tf-keras-datasets/train-images-idx3-ubyte.gz\n",
            "26427392/26421880 [==============================] - 0s 0us/step\n",
            "26435584/26421880 [==============================] - 0s 0us/step\n",
            "Downloading data from https://storage.googleapis.com/tensorflow/tf-keras-datasets/t10k-labels-idx1-ubyte.gz\n",
            "16384/5148 [===============================================================================================] - 0s 0us/step\n",
            "Downloading data from https://storage.googleapis.com/tensorflow/tf-keras-datasets/t10k-images-idx3-ubyte.gz\n",
            "4423680/4422102 [==============================] - 0s 0us/step\n",
            "4431872/4422102 [==============================] - 0s 0us/step\n"
          ],
          "name": "stdout"
        }
      ]
    },
    {
      "cell_type": "markdown",
      "metadata": {
        "id": "jN1O10csLcVs"
      },
      "source": [
        "The images are 28x28 NumPy arrays, with pixel values ranging from 0 to 255. The *labels* are an array of integers, ranging from 0 to 9. These correspond to the *class* of clothing the image represents:"
      ],
      "id": "jN1O10csLcVs"
    },
    {
      "cell_type": "code",
      "metadata": {
        "id": "CnwN4QoB7BN7",
        "outputId": "bdae879b-3e64-4a0a-b748-f0a24e620bdd",
        "colab": {
          "base_uri": "https://localhost:8080/"
        }
      },
      "source": [
        "train_images.shape"
      ],
      "id": "CnwN4QoB7BN7",
      "execution_count": 5,
      "outputs": [
        {
          "output_type": "execute_result",
          "data": {
            "text/plain": [
              "(60000, 28, 28)"
            ]
          },
          "metadata": {},
          "execution_count": 5
        }
      ]
    },
    {
      "cell_type": "markdown",
      "metadata": {
        "id": "p0yf3e-zLdUW"
      },
      "source": [
        "\n",
        "<table>\n",
        "  <tr>\n",
        "    <th>Label</th>\n",
        "    <th>Class</th>\n",
        "  </tr>\n",
        "  <tr>\n",
        "    <td>0</td>\n",
        "    <td>T-shirt/top</td>\n",
        "  </tr>\n",
        "  <tr>\n",
        "    <td>1</td>\n",
        "    <td>Trouser</td>\n",
        "  </tr>\n",
        "    <tr>\n",
        "    <td>2</td>\n",
        "    <td>Pullover</td>\n",
        "  </tr>\n",
        "    <tr>\n",
        "    <td>3</td>\n",
        "    <td>Dress</td>\n",
        "  </tr>\n",
        "    <tr>\n",
        "    <td>4</td>\n",
        "    <td>Coat</td>\n",
        "  </tr>\n",
        "    <tr>\n",
        "    <td>5</td>\n",
        "    <td>Sandal</td>\n",
        "  </tr>\n",
        "    <tr>\n",
        "    <td>6</td>\n",
        "    <td>Shirt</td>\n",
        "  </tr>\n",
        "    <tr>\n",
        "    <td>7</td>\n",
        "    <td>Sneaker</td>\n",
        "  </tr>\n",
        "    <tr>\n",
        "    <td>8</td>\n",
        "    <td>Bag</td>\n",
        "  </tr>\n",
        "    <tr>\n",
        "    <td>9</td>\n",
        "    <td>Ankle boot</td>\n",
        "  </tr>\n",
        "</table>\n",
        "\n",
        "Each image is mapped to a single label. Since the *class names* are not included with the dataset, store them here to use later when plotting the images:"
      ],
      "id": "p0yf3e-zLdUW"
    },
    {
      "cell_type": "code",
      "metadata": {
        "id": "l610mvhA695s"
      },
      "source": [
        "class_names = ['T-shirt/top', 'Trouser', 'Pullover', 'Dress', 'Coat',\n",
        "               'Sandal', 'Shirt', 'Sneaker', 'Bag', 'Ankle boot']"
      ],
      "id": "l610mvhA695s",
      "execution_count": 6,
      "outputs": []
    },
    {
      "cell_type": "markdown",
      "metadata": {
        "id": "Wz7l27Lz9S1P"
      },
      "source": [
        "Scale these values to a range of 0 to 1 before feeding them to the neural network model. To do so, divide the values by 255. It's important that the *training set* and the *testing set* be preprocessed in the same way:"
      ],
      "id": "Wz7l27Lz9S1P"
    },
    {
      "cell_type": "code",
      "metadata": {
        "id": "w3OkzF7O7Hr8"
      },
      "source": [
        "train_images = train_images / 255.0\n",
        "\n",
        "test_images = test_images / 255.0"
      ],
      "id": "w3OkzF7O7Hr8",
      "execution_count": 7,
      "outputs": []
    },
    {
      "cell_type": "code",
      "metadata": {
        "id": "NgqvO8Eh7NFx",
        "outputId": "33826186-3429-48fa-ddb6-b3ceeba9f6e4",
        "colab": {
          "base_uri": "https://localhost:8080/",
          "height": 589
        }
      },
      "source": [
        "plt.figure(figsize=(10,10))\n",
        "for i in range(25):\n",
        "    plt.subplot(5,5,i+1)\n",
        "    plt.xticks([])\n",
        "    plt.yticks([])\n",
        "    plt.grid(False)\n",
        "    plt.imshow(train_images[i], cmap=plt.cm.binary)\n",
        "    plt.xlabel(class_names[train_labels[i]])\n",
        "plt.show()"
      ],
      "id": "NgqvO8Eh7NFx",
      "execution_count": 8,
      "outputs": [
        {
          "output_type": "display_data",
          "data": {
            "image/png": "[encoded data removed]",
            "text/plain": [
              "<Figure size 720x720 with 25 Axes>"
            ]
          },
          "metadata": {}
        }
      ]
    },
    {
      "cell_type": "markdown",
      "metadata": {
        "id": "FN2N6hPEP-Ay"
      },
      "source": [
        "### TensorFlow Model for Training\n",
        "\n",
        "Instead of converting a single TensorFlow model or tf.function to a TensorFlow Lite model with a single entry point, we can convert multiple tf.function(s) into a TensorFlow Lite model. To be able to do that, we're extending the TensorFlow Lite's converter & runtime to handle multiple signatures.\n",
        "\n",
        "Preparing a TensorFlow Model. The code constructs a tf.module with 4 tf.functions:\n",
        "*   train function trains the model with training data.\n",
        "*   infer function invokes the inference.\n",
        "*   save function saves the trainable weights into the file system.\n",
        "*   restore function loads the trainable weights from the file system.\n",
        "\n",
        "The weights will be serialized as a TensorFlow version one checkpoint file format."
      ],
      "id": "FN2N6hPEP-Ay"
    },
    {
      "cell_type": "code",
      "metadata": {
        "id": "d8577c80"
      },
      "source": [
        "IMG_SIZE = 28\n",
        "\n",
        "\n",
        "class Model(tf.Module):\n",
        "\n",
        "  def __init__(self):\n",
        "    self.model = tf.keras.Sequential([\n",
        "        tf.keras.layers.Flatten(input_shape=(IMG_SIZE, IMG_SIZE)),\n",
        "        tf.keras.layers.Dense(128, activation='relu'),\n",
        "        tf.keras.layers.Dense(10, activation='softmax')\n",
        "    ])\n",
        "\n",
        "    self.model.compile(\n",
        "        optimizer='sgd',\n",
        "        loss=tf.keras.losses.CategoricalCrossentropy(from_logits=True),\n",
        "        metrics=['accuracy'])\n",
        "    self._LOSS_FN = tf.keras.losses.CategoricalCrossentropy()\n",
        "    self._OPTIM = tf.optimizers.SGD()\n",
        "\n",
        "  @tf.function(input_signature=[\n",
        "      tf.TensorSpec([None, IMG_SIZE, IMG_SIZE], tf.float32),\n",
        "      tf.TensorSpec([None, 10], tf.float32),\n",
        "  ])\n",
        "  def train(self, x, y):\n",
        "    with tf.GradientTape() as tape:\n",
        "      prediction = self.model(x)\n",
        "      loss = self._LOSS_FN(prediction, y)\n",
        "    gradients = tape.gradient(loss, self.model.trainable_variables)\n",
        "    self._OPTIM.apply_gradients(\n",
        "        zip(gradients, self.model.trainable_variables))\n",
        "    result = {\"loss\": loss}\n",
        "    for grad in gradients:\n",
        "      result[grad.name] = grad\n",
        "    return result\n",
        "\n",
        "  @tf.function(input_signature=[tf.TensorSpec([None, IMG_SIZE, IMG_SIZE], tf.float32)])\n",
        "  def predict(self, x):\n",
        "    return {\n",
        "        \"output\": self.model(x)\n",
        "    }\n",
        "\n",
        "  @tf.function(input_signature=[tf.TensorSpec(shape=[], dtype=tf.string)])\n",
        "  def save(self, checkpoint_path):\n",
        "    tensor_names = [weight.name for weight in self.model.weights]\n",
        "    tensors_to_save = [weight.read_value() for weight in self.model.weights]\n",
        "    tf.raw_ops.Save(\n",
        "        filename=checkpoint_path, tensor_names=tensor_names,\n",
        "        data=tensors_to_save, name='save')\n",
        "    return {\n",
        "        \"checkpoint_path\": checkpoint_path\n",
        "    }\n",
        "\n",
        "  @tf.function(input_signature=[tf.TensorSpec(shape=[], dtype=tf.string)])\n",
        "  def restore(self, checkpoint_path):\n",
        "    restored_tensors = {}\n",
        "    for var in self.model.weights:\n",
        "      restored = tf.raw_ops.Restore(\n",
        "          file_pattern=checkpoint_path, tensor_name=var.name, dt=var.dtype,\n",
        "          name='restore')\n",
        "      var.assign(restored)\n",
        "      restored_tensors[var.name] = restored\n",
        "    return restored_tensors"
      ],
      "id": "d8577c80",
      "execution_count": 9,
      "outputs": []
    },
    {
      "cell_type": "markdown",
      "metadata": {
        "id": "A8YUTIvzMVw5"
      },
      "source": [
        "### Converting to TensorFlow Lite format."
      ],
      "id": "A8YUTIvzMVw5"
    },
    {
      "cell_type": "code",
      "metadata": {
        "id": "WwsDUEKFMYtq",
        "outputId": "b6e36e80-9da4-4002-c2b3-68e684812ffc",
        "colab": {
          "base_uri": "https://localhost:8080/"
        }
      },
      "source": [
        "# Export the TensorFlow model to the saved model\n",
        "SAVED_MODEL_DIR = \"saved_model\"\n",
        "m= Model()\n",
        "tf.saved_model.save(\n",
        "    m,\n",
        "    SAVED_MODEL_DIR,\n",
        "    signatures={\n",
        "        'train':\n",
        "            m.train.get_concrete_function(),\n",
        "        'infer':\n",
        "            m.predict.get_concrete_function(),\n",
        "        'save':\n",
        "            m.save.get_concrete_function(),\n",
        "        'restore':\n",
        "            m.restore.get_concrete_function(),\n",
        "    })\n",
        "\n",
        "# Convert the model\n",
        "converter = tf.lite.TFLiteConverter.from_saved_model(SAVED_MODEL_DIR)\n",
        "converter.target_spec.supported_ops = [\n",
        "    tf.lite.OpsSet.TFLITE_BUILTINS,  # enable TensorFlow Lite ops.\n",
        "    tf.lite.OpsSet.SELECT_TF_OPS  # enable TensorFlow ops.\n",
        "]\n",
        "converter.experimental_enable_resource_variables = True\n",
        "tflite_model = converter.convert()"
      ],
      "id": "WwsDUEKFMYtq",
      "execution_count": 10,
      "outputs": [
        {
          "output_type": "stream",
          "text": [
            "INFO:tensorflow:Assets written to: saved_model/assets\n"
          ],
          "name": "stdout"
        },
        {
          "output_type": "stream",
          "text": [
            "WARNING:absl:Importing a function (__inference_internal_grad_fn_1051) with ops with unsaved custom gradients. Will likely fail if a gradient is requested.\n",
            "WARNING:absl:Importing a function (__inference_internal_grad_fn_1079) with ops with unsaved custom gradients. Will likely fail if a gradient is requested.\n"
          ],
          "name": "stderr"
        }
      ]
    },
    {
      "cell_type": "markdown",
      "metadata": {
        "id": "B-mXb38wM6Nf"
      },
      "source": [
        "### Executing in TensorFlow Lite runtime.\n",
        "\n",
        "TensorFlow Lite's Interpreter capability will be extended to support multiple signatures too. Developers can choose to invoke restoring, training, saving and inferring signatures separately.\n"
      ],
      "id": "B-mXb38wM6Nf"
    },
    {
      "cell_type": "code",
      "metadata": {
        "id": "qNX2vqXd2-HM"
      },
      "source": [
        "interpreter = tf.lite.Interpreter(model_content=tflite_model)\n",
        "\n",
        "train = interpreter.get_signature_runner(\"train\")\n",
        "infer = interpreter.get_signature_runner(\"infer\")\n",
        "save = interpreter.get_signature_runner(\"save\")\n",
        "restore = interpreter.get_signature_runner(\"restore\")"
      ],
      "id": "qNX2vqXd2-HM",
      "execution_count": 11,
      "outputs": []
    },
    {
      "cell_type": "markdown",
      "metadata": {
        "id": "fauhoadfg842"
      },
      "source": [
        "On Android, TensorFlow Lite on-device training can be performed using either Java or C++ APIs. In this document, we describe how the above TensorFlow Lite model will work with Java API."
      ],
      "id": "fauhoadfg842"
    },
    {
      "cell_type": "markdown",
      "metadata": {
        "id": "5jhWXwVCO09F"
      },
      "source": [
        "### Training with data set\n",
        "\n",
        "Training can be done with the `train` signature method."
      ],
      "id": "5jhWXwVCO09F"
    },
    {
      "cell_type": "code",
      "metadata": {
        "id": "Diwn1MmkNVeX"
      },
      "source": [
        "# Generate the training labels\n",
        "processed_train_labels = []\n",
        "for i in range(len(train_images)):\n",
        "  train_label = [0] * 10\n",
        "  train_label[train_labels[i]] = 1\n",
        "  processed_train_labels.append(train_label)\n",
        "\n",
        "# Run training for a few steps\n",
        "NUM_EPOCHS = 100\n",
        "for i in range(NUM_EPOCHS):\n",
        "  train(\n",
        "      x=tf.constant(train_images, shape=(len(train_images), IMG_SIZE, IMG_SIZE), dtype=tf.float32),\n",
        "      y=tf.constant(processed_train_labels, shape=(len(train_images), 10), dtype=tf.float32))"
      ],
      "id": "Diwn1MmkNVeX",
      "execution_count": 12,
      "outputs": []
    },
    {
      "cell_type": "markdown",
      "metadata": {
        "id": "jBYb5JEnPeOR"
      },
      "source": [
        "In Java, you'll use the `Interpreter` class to load a model and drive model training tasks.\n",
        "The following example shows how to run the training procedure by using the `runSignature` method:\n",
        "\n",
        "```\n",
        "try (Interpreter interpreter = new Interpreter(modelBuffer)) {\n",
        "    int NUM_EPOCHS = 100;\n",
        "    int NUM_TRAININGS = 60000;\n",
        "    float[][][] trainImages = new float[NUM_TRAININGS][28][28];\n",
        "    float[][] trainLabels = new float[NUM_TRAININGS][10];\n",
        "\n",
        "    // Fill the data values.\n",
        "\n",
        "    // Run training for a few steps.\n",
        "    for (int i = 0; i < NUM_EPOCHS; ++i) {\n",
        "        Map<String, Object> inputs = new HashMap<>();\n",
        "        inputs.put(\"x\", trainImages);\n",
        "        inputs.put(\"y\", trainLabels);\n",
        "        Map<String, Object> outputs = new HashMap<>();\n",
        "        FloatBuffer loss = FloatBuffer.allocate(1);\n",
        "        outputs.put(\"loss\", loss);\n",
        "        interpreter.runSignature(inputs, outputs, \"train\");\n",
        "    }\n",
        "\n",
        "    // Do the other stuffs..\n",
        "}\n",
        "```"
      ],
      "id": "jBYb5JEnPeOR"
    },
    {
      "cell_type": "markdown",
      "metadata": {
        "id": "UDIi0_RlPb2n"
      },
      "source": [
        "### Exporting the trained weights to the checkpoint file\n",
        "\n",
        "The checkpoint file can be generated through the `save` signature method."
      ],
      "id": "UDIi0_RlPb2n"
    },
    {
      "cell_type": "code",
      "metadata": {
        "id": "sgeX9XiXOyex",
        "outputId": "9470c63b-7dee-402e-c4e1-4f66cda52688",
        "colab": {
          "base_uri": "https://localhost:8080/"
        }
      },
      "source": [
        "# Export the trained weights to /tmp/model.ckpt\n",
        "save(checkpoint_path=np.array(\"/tmp/model.ckpt\", dtype=np.string_))"
      ],
      "id": "sgeX9XiXOyex",
      "execution_count": 13,
      "outputs": [
        {
          "output_type": "execute_result",
          "data": {
            "text/plain": [
              "{'checkpoint_path': array(b'/tmp/model.ckpt', dtype=object)}"
            ]
          },
          "metadata": {},
          "execution_count": 13
        }
      ]
    },
    {
      "cell_type": "markdown",
      "metadata": {
        "id": "vvlZN-rhR_Ag"
      },
      "source": [
        "In Java, you can store the trained weight as a checkpoint format into the internal storage of the application. Training tasks usually perform at the idle time (e.g., at night time) in the background process occasionally.\n",
        "\n",
        "```\n",
        "try (Interpreter interpreter = new Interpreter(modelBuffer)) {\n",
        "    // Conduct the training jobs.\n",
        "\n",
        "    // Export the trained weights as a checkpoint file.\n",
        "    File outputFile = new File(getFilesDir(), \"checkpoint.ckpt\");\n",
        "    Map<String, Object> inputs = new HashMap<>();\n",
        "    inputs.put(\"checkpoint_path\", outputFile.getAbsolutePath());\n",
        "    Map<String, Object> outputs = new HashMap<>();\n",
        "    interpreter.runSignature(inputs, outputs, \"save\");\n",
        "}\n",
        "```"
      ],
      "id": "vvlZN-rhR_Ag"
    },
    {
      "cell_type": "markdown",
      "metadata": {
        "id": "SSDydMyOQfL5"
      },
      "source": [
        "### Restoring the trained weights from the checkpoint file\n",
        "\n",
        "The exported checkpoint file can be restored through the `restore` signature method."
      ],
      "id": "SSDydMyOQfL5"
    },
    {
      "cell_type": "code",
      "metadata": {
        "id": "5yIZoLveRZgp",
        "outputId": "6c94b265-09eb-4938-921c-80512021e392",
        "colab": {
          "base_uri": "https://localhost:8080/"
        }
      },
      "source": [
        "another_interpreter = tf.lite.Interpreter(model_content=tflite_model)\n",
        "\n",
        "train = another_interpreter.get_signature_runner(\"train\")\n",
        "infer = another_interpreter.get_signature_runner(\"infer\")\n",
        "save = another_interpreter.get_signature_runner(\"save\")\n",
        "restore = another_interpreter.get_signature_runner(\"restore\")\n",
        "\n",
        "# Restore the trained weights from /tmp/model.ckpt\n",
        "restore(checkpoint_path=np.array(\"/tmp/model.ckpt\", dtype=np.string_))"
      ],
      "id": "5yIZoLveRZgp",
      "execution_count": 14,
      "outputs": [
        {
          "output_type": "execute_result",
          "data": {
            "text/plain": [
              "{'dense/bias:0': array([-1.57285843e-03, -4.36150981e-03,  1.48836458e-02,  1.35667417e-02,\n",
              "         7.46194832e-03, -4.83886991e-03,  6.57455437e-03, -4.73781518e-04,\n",
              "         4.12419299e-03,  2.58954018e-02,  1.61975506e-03, -1.17487879e-02,\n",
              "        -9.89729655e-04,  2.91385991e-03, -1.68202328e-03, -7.42188143e-03,\n",
              "        -5.06101223e-03,  6.53741765e-04,  1.69041492e-02, -1.53265726e-02,\n",
              "        -2.11372157e-03, -5.78631414e-04, -2.74046906e-04,  3.44356429e-03,\n",
              "        -6.28103316e-03, -5.93029847e-03, -9.84243676e-03,  6.41197478e-03,\n",
              "         1.40506737e-02,  1.76685315e-03, -4.20411956e-03,  1.15378276e-02,\n",
              "        -3.02422279e-03,  2.73351930e-03, -5.04991924e-03, -1.11118972e-03,\n",
              "         5.69828087e-03,  1.89777557e-02, -1.45693170e-03,  9.47452988e-03,\n",
              "        -1.30979321e-03, -3.83566157e-03,  1.10030295e-02,  5.07608103e-03,\n",
              "        -2.20827921e-03,  4.95553203e-03, -3.35005258e-04,  8.24076496e-03,\n",
              "        -1.69422454e-03, -1.87482947e-05, -4.49026795e-03,  4.35718242e-03,\n",
              "         1.78324934e-02,  1.42959831e-02, -2.30042241e-03,  5.18994220e-03,\n",
              "         6.62731845e-03,  7.24743400e-03,  5.25178947e-03,  3.92448641e-02,\n",
              "         3.73577769e-03,  8.25242326e-03, -4.64917533e-03,  2.43719462e-02,\n",
              "         6.26876531e-03,  1.22555560e-02, -8.83383770e-03,  1.11999724e-03,\n",
              "         1.49061400e-02, -4.74620517e-03,  2.67512929e-02,  1.11020561e-02,\n",
              "        -1.90901093e-03,  2.44263411e-02,  7.79864145e-03, -2.52184668e-03,\n",
              "        -6.87671639e-03,  3.68663599e-03,  5.41868430e-05,  2.91476957e-03,\n",
              "        -4.00473690e-03, -1.32534467e-03,  9.50045511e-03,  6.97401725e-03,\n",
              "         1.05041859e-03, -1.72942970e-03,  1.67397149e-02,  1.84007604e-02,\n",
              "         1.70802865e-02, -2.74509331e-03,  1.19104227e-02, -7.76856346e-03,\n",
              "         3.96032445e-03,  1.08306114e-04, -2.09370907e-03, -5.75081864e-03,\n",
              "         2.46251584e-03,  4.41297237e-03,  3.82803148e-03, -7.36459717e-03,\n",
              "        -4.46036365e-03,  1.71174686e-02, -5.10382559e-03,  3.27243935e-03,\n",
              "        -8.88920447e-04, -1.15249865e-03,  2.40680855e-02,  7.59835262e-03,\n",
              "        -6.81193219e-03,  9.22085746e-05, -8.08919687e-03, -3.34995426e-03,\n",
              "        -5.73148811e-03,  1.89565066e-02,  2.22169347e-02,  8.48335121e-03,\n",
              "         3.62862530e-03, -7.96046108e-03, -8.44814070e-03, -8.45994428e-03,\n",
              "         3.14374454e-03, -3.04440828e-03,  5.37578622e-03,  1.18150758e-02,\n",
              "         1.89486868e-03, -3.66321346e-03,  5.59679279e-03,  9.31394898e-05],\n",
              "       dtype=float32),\n",
              " 'dense/kernel:0': array([[-0.08031233,  0.03281811, -0.06192348, ...,  0.04006809,\n",
              "         -0.06608431, -0.00679768],\n",
              "        [-0.07204922,  0.0010613 ,  0.04190496, ..., -0.05824471,\n",
              "         -0.08109791,  0.00590287],\n",
              "        [-0.01371243,  0.05592427, -0.05328341, ..., -0.02204874,\n",
              "         -0.05019723,  0.01568204],\n",
              "        ...,\n",
              "        [-0.00936218,  0.05286681, -0.04807849, ..., -0.02278425,\n",
              "          0.04561274,  0.03458098],\n",
              "        [ 0.0703925 , -0.00397872,  0.01036303, ..., -0.07454848,\n",
              "          0.03762647,  0.03301041],\n",
              "        [ 0.07140217,  0.03024638,  0.06050078, ..., -0.00729908,\n",
              "          0.03561355, -0.01380337]], dtype=float32),\n",
              " 'dense_1/bias:0': array([-0.01057897,  0.02798155, -0.02721532, -0.01178902, -0.03261909,\n",
              "         0.03824002, -0.01674107,  0.06479462, -0.00622304, -0.02584666],\n",
              "       dtype=float32),\n",
              " 'dense_1/kernel:0': array([[ 0.20532946,  0.04895966,  0.04806477, ...,  0.1842476 ,\n",
              "          0.04001875,  0.02829899],\n",
              "        [-0.11564036,  0.01309861, -0.1085465 , ...,  0.03441835,\n",
              "          0.18818673, -0.10964528],\n",
              "        [ 0.16526467,  0.27772224, -0.13799857, ..., -0.17034456,\n",
              "         -0.08155934, -0.18946697],\n",
              "        ...,\n",
              "        [-0.16586629, -0.14551383, -0.13446577, ..., -0.23064311,\n",
              "         -0.12630565, -0.0663368 ],\n",
              "        [-0.13030651,  0.16436552,  0.16922349, ...,  0.0384584 ,\n",
              "         -0.11609874,  0.09569876],\n",
              "        [ 0.17911045,  0.12671752, -0.12468987, ...,  0.05676334,\n",
              "         -0.07585928,  0.1164245 ]], dtype=float32)}"
            ]
          },
          "metadata": {},
          "execution_count": 14
        }
      ]
    },
    {
      "cell_type": "markdown",
      "metadata": {
        "id": "v9I_-gjdSnGn"
      },
      "source": [
        "In Java, you can restore the serialized trained weights from the file, stored at the internal storage. When the application restarts, the trained weights\n",
        "usually need to be restored prior to the inferences.\n",
        "\n",
        "```\n",
        "try (Interpreter another_interpreter = new Interpreter(modelBuffer)) {\n",
        "    // Load the trained weights from the checkpoint file.\n",
        "    File outputFile = new File(getFilesDir(), \"checkpoint.ckpt\");\n",
        "    Map<String, Object> inputs = new HashMap<>();\n",
        "    inputs.put(\"checkpoint_path\", outputFile.getAbsolutePath());\n",
        "    Map<String, Object> outputs = new HashMap<>();\n",
        "    another_interpreter.runSignature(inputs, outputs, \"restore\");\n",
        "}\n",
        "```"
      ],
      "id": "v9I_-gjdSnGn"
    },
    {
      "cell_type": "markdown",
      "metadata": {
        "id": "zjcrv57DSkz2"
      },
      "source": [
        "### Run the inference through the trained weights\n",
        "\n",
        "Developers can use the trained model to run inference through the `infer` signature method."
      ],
      "id": "zjcrv57DSkz2"
    },
    {
      "cell_type": "code",
      "metadata": {
        "id": "_ROmlpHWS0nX"
      },
      "source": [
        "# Run the inference\n",
        "result = infer(\n",
        "    x=tf.constant(test_images, shape=(len(test_images), IMG_SIZE, IMG_SIZE), dtype=tf.float32))\n",
        "\n",
        "test_labels = np.argmax(result[\"output\"], axis=1)"
      ],
      "id": "_ROmlpHWS0nX",
      "execution_count": 15,
      "outputs": []
    },
    {
      "cell_type": "code",
      "metadata": {
        "id": "GHbRasdfasd4",
        "outputId": "8e777124-7760-44c0-f3a7-176e8beac896",
        "colab": {
          "base_uri": "https://localhost:8080/",
          "height": 589
        }
      },
      "source": [
        "plt.figure(figsize=(10,10))\n",
        "for i in range(25):\n",
        "    plt.subplot(5,5,i+1)\n",
        "    plt.xticks([])\n",
        "    plt.yticks([])\n",
        "    plt.grid(False)\n",
        "    plt.imshow(test_images[i], cmap=plt.cm.binary)\n",
        "    plt.xlabel(class_names[test_labels[i]])\n",
        "plt.show()"
      ],
      "id": "GHbRasdfasd4",
      "execution_count": 16,
      "outputs": [
        {
          "output_type": "display_data",
          "data": {
            "image/png": "[encoded data removed]",
            "text/plain": [
              "<Figure size 720x720 with 25 Axes>"
            ]
          },
          "metadata": {}
        }
      ]
    },
    {
      "cell_type": "markdown",
      "metadata": {
        "id": "eijDL3jNS6WI"
      },
      "source": [
        "In Java, after restoring the trained weights, developers can run the inferences based on the loaded data.\n",
        "\n",
        "```\n",
        "try (Interpreter another_interpreter = new Interpreter(modelBuffer)) {\n",
        "    // Restore the weights from the checkpoint file.\n",
        "\n",
        "    int NUM_TESTS = 10;\n",
        "    float[][][] testImages = new float[NUM_TESTS][28][28];\n",
        "    float[][] output = new float[NUM_TESTS][10];\n",
        "\n",
        "    // Fill the test data.\n",
        "\n",
        "    // Run the inference.\n",
        "    inputs = new HashMap<>();\n",
        "    inputs.put(\"x\", testImages);\n",
        "    outputs = new HashMap<>();\n",
        "    outputs.put(\"output\", output);\n",
        "    another_interpreter.runSignature(inputs, outputs, \"infer\");\n",
        "\n",
        "    // Process the result to get the final category values.\n",
        "    int[] testLabels = new int[NUM_TESTS];\n",
        "    for (int i = 0; i < NUM_TESTS; ++i) {\n",
        "        int index = 0;\n",
        "        for (int j = 1; j < 10; ++j) {\n",
        "            if (output[i][index] < output[i][j]) index = testLabels[j];\n",
        "        }\n",
        "        testLabels[i] = index;\n",
        "    }\n",
        "}\n",
        "```"
      ],
      "id": "eijDL3jNS6WI"
    }
  ]
}

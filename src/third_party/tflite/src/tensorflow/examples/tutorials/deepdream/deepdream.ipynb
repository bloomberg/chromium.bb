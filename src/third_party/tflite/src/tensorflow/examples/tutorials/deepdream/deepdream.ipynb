{
  "cells": [
    {
      "cell_type": "markdown",
      "metadata": {
        "colab_type": "text",
        "id": "xu2SVpFJjmJr"
      },
      "source": [
        "# DeepDreaming with TensorFlow"
      ]
    },
    {
      "cell_type": "markdown",
      "metadata": {
        "colab_type": "text",
        "id": "eALNdPq7iH9a"
      },
      "source": [
        "This example has moved.\n",
        "\n",
        "* [TensorFlow 2.0 version](https://tensorflow.org/tutorials/generative/deepdream)\n",
        "* [The Original](https://github.com/tensorflow/examples/tree/master/community/en/r1/deepdream.ipynb)"
      ]
    }
  ],
  "metadata": {
    "colab": {
      "collapsed_sections": [],
      "name": "deepdream.ipynb",
      "provenance": [],
      "version": "0.3.2"
    },
    "kernelspec": {
      "display_name": "Python 3",
      "language": "python",
      "name": "python3"
    },
    "language_info": {
      "codemirror_mode": {
        "name": "ipython",
        "version": 2
      },
      "file_extension": ".py",
      "mimetype": "text/x-python",
      "name": "python",
      "nbconvert_exporter": "python",
      "pygments_lexer": "ipython2",
      "version": "2.7.11"
    }
  },
  "nbformat": 4,
  "nbformat_minor": 0
}
